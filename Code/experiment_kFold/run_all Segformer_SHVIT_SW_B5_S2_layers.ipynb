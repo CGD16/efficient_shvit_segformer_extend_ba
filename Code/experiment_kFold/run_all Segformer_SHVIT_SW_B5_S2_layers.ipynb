{
 "cells": [
  {
   "cell_type": "code",
   "execution_count": null,
   "id": "87b02d63",
   "metadata": {},
   "outputs": [],
   "source": []
  },
  {
   "cell_type": "code",
   "execution_count": 1,
   "id": "0e8d8159",
   "metadata": {},
   "outputs": [
    {
     "name": "stderr",
     "output_type": "stream",
     "text": [
      "You are using a CUDA device ('NVIDIA GeForce RTX 4090') that has Tensor Cores. To properly utilize them, you should set `torch.set_float32_matmul_precision('medium' | 'high')` which will trade-off precision for performance. For more details, read https://pytorch.org/docs/stable/generated/torch.set_float32_matmul_precision.html#torch.set_float32_matmul_precision\n"
     ]
    },
    {
     "name": "stdout",
     "output_type": "stream",
     "text": [
      "2.6.0\n",
      "Num GPUs Available:  1\n",
      "Device 0: NVIDIA GeForce RTX 4090\n",
      "Model size: 52.06 MB\n",
      "Trainable parameters: 13587519\n",
      "Non-trainable parameters: 0\n",
      "Memory used: 7.62 GB\n",
      "Time elapsed 108.94 min\n",
      "val_iou    0.311690\n",
      "val_f1     0.410618\n",
      "dtype: float64\n",
      "Memory used: 7.62 GB\n",
      "Time elapsed 84.32 min\n",
      "val_iou    0.330954\n",
      "val_f1     0.431980\n",
      "dtype: float64\n",
      "Memory used: 7.62 GB\n",
      "Time elapsed 83.31 min\n",
      "val_iou    0.311502\n",
      "val_f1     0.410214\n",
      "dtype: float64\n",
      "Memory used: 7.62 GB\n",
      "Time elapsed 100.05 min\n",
      "val_iou    0.310804\n",
      "val_f1     0.408480\n",
      "dtype: float64\n",
      "Memory used: 7.62 GB\n",
      "Time elapsed 95.51 min\n",
      "val_iou    0.310194\n",
      "val_f1     0.409300\n",
      "dtype: float64\n"
     ]
    }
   ],
   "source": [
    "%run ./crossVal_shoes3D_torch_B5_S2_SW_LAY1_112x112x112_2conv3d.ipynb"
   ]
  },
  {
   "cell_type": "code",
   "execution_count": 2,
   "id": "7ad95fc6",
   "metadata": {},
   "outputs": [
    {
     "name": "stdout",
     "output_type": "stream",
     "text": [
      "2.6.0\n",
      "Num GPUs Available:  1\n",
      "Device 0: NVIDIA GeForce RTX 4090\n",
      "Model size: 52.89 MB\n",
      "Trainable parameters: 13807103\n",
      "Non-trainable parameters: 0\n",
      "Memory used: 8.05 GB\n",
      "Time elapsed 115.75 min\n",
      "val_iou    0.372438\n",
      "val_f1     0.481952\n",
      "dtype: float64\n",
      "Memory used: 8.05 GB\n",
      "Time elapsed 101.25 min\n",
      "val_iou    0.364666\n",
      "val_f1     0.472028\n",
      "dtype: float64\n",
      "Memory used: 8.05 GB\n",
      "Time elapsed 126.72 min\n",
      "val_iou    0.373624\n",
      "val_f1     0.481920\n",
      "dtype: float64\n",
      "Memory used: 8.05 GB\n",
      "Time elapsed 119.85 min\n",
      "val_iou    0.368292\n",
      "val_f1     0.475904\n",
      "dtype: float64\n",
      "Memory used: 8.05 GB\n",
      "Time elapsed 115.21 min\n",
      "val_iou    0.377206\n",
      "val_f1     0.486636\n",
      "dtype: float64\n"
     ]
    }
   ],
   "source": [
    "%run ./crossVal_shoes3D_torch_B5_S2_SW_LAY2_224x224x224_2conv3d.ipynb"
   ]
  },
  {
   "cell_type": "code",
   "execution_count": 3,
   "id": "1ca4ed6f",
   "metadata": {},
   "outputs": [
    {
     "name": "stdout",
     "output_type": "stream",
     "text": [
      "2.6.0\n",
      "Num GPUs Available:  1\n",
      "Device 0: NVIDIA GeForce RTX 4090\n",
      "Model size: 53.10 MB\n",
      "Trainable parameters: 13861599\n",
      "Non-trainable parameters: 0\n",
      "Memory used: 13.07 GB\n",
      "Time elapsed 546.37 min\n",
      "val_iou    0.361972\n",
      "val_f1     0.468946\n",
      "dtype: float64\n",
      "Memory used: 13.07 GB\n",
      "Time elapsed 605.71 min\n",
      "val_iou    0.357076\n",
      "val_f1     0.465184\n",
      "dtype: float64\n",
      "Memory used: 13.07 GB\n",
      "Time elapsed 614.13 min\n",
      "val_iou    0.341550\n",
      "val_f1     0.444312\n",
      "dtype: float64\n",
      "Memory used: 13.07 GB\n",
      "Time elapsed 525.51 min\n",
      "val_iou    0.351194\n",
      "val_f1     0.456574\n",
      "dtype: float64\n",
      "Memory used: 13.07 GB\n",
      "Time elapsed 654.52 min\n",
      "val_iou    0.369644\n",
      "val_f1     0.478074\n",
      "dtype: float64\n"
     ]
    }
   ],
   "source": [
    "%run ./crossVal_shoes3D_torch_B5_S2_SW_LAY3_448x448x448_2conv3d.ipynb"
   ]
  },
  {
   "cell_type": "code",
   "execution_count": 4,
   "id": "24efe93d",
   "metadata": {},
   "outputs": [],
   "source": [
    "# %run ./crossVal_shoes3D_torch_B5_S2_SW_LAY4_896x896x896_2conv3d.ipynb"
   ]
  },
  {
   "cell_type": "code",
   "execution_count": null,
   "id": "645cfbcd",
   "metadata": {},
   "outputs": [],
   "source": []
  }
 ],
 "metadata": {
  "kernelspec": {
   "display_name": "torch260",
   "language": "python",
   "name": "python3"
  },
  "language_info": {
   "codemirror_mode": {
    "name": "ipython",
    "version": 3
   },
   "file_extension": ".py",
   "mimetype": "text/x-python",
   "name": "python",
   "nbconvert_exporter": "python",
   "pygments_lexer": "ipython3",
   "version": "3.12.9"
  }
 },
 "nbformat": 4,
 "nbformat_minor": 5
}
