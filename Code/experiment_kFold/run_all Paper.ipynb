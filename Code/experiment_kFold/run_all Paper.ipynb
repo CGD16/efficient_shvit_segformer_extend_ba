{
 "cells": [
  {
   "cell_type": "code",
   "execution_count": null,
   "id": "87b02d63",
   "metadata": {},
   "outputs": [],
   "source": []
  },
  {
   "cell_type": "code",
   "execution_count": 1,
   "id": "bbae1a87",
   "metadata": {},
   "outputs": [
    {
     "name": "stderr",
     "output_type": "stream",
     "text": [
      "You are using a CUDA device ('NVIDIA GeForce RTX 4090') that has Tensor Cores. To properly utilize them, you should set `torch.set_float32_matmul_precision('medium' | 'high')` which will trade-off precision for performance. For more details, read https://pytorch.org/docs/stable/generated/torch.set_float32_matmul_precision.html#torch.set_float32_matmul_precision\n"
     ]
    },
    {
     "name": "stdout",
     "output_type": "stream",
     "text": [
      "2.6.0\n",
      "Num GPUs Available:  1\n",
      "Device 0: NVIDIA GeForce RTX 4090\n",
      "Model size: 52.88 MB\n",
      "Trainable parameters: 13804027\n",
      "Non-trainable parameters: 0\n",
      "Memory used: 11.75 GB\n",
      "Time elapsed 146.43 min\n",
      "val_iou                                 0.61644\n",
      "val_f1                                  0.72344\n",
      "val_f1_per_class    [0.95989, 0.45279, 0.75763]\n",
      "dtype: object\n",
      "Memory used: 11.76 GB\n",
      "Time elapsed 164.93 min\n",
      "val_iou                               0.60939\n",
      "val_f1                                0.71645\n",
      "val_f1_per_class    [0.96018, 0.448, 0.74118]\n",
      "dtype: object\n",
      "Memory used: 11.76 GB\n",
      "Time elapsed 183.47 min\n",
      "val_iou                                 0.61157\n",
      "val_f1                                  0.71934\n",
      "val_f1_per_class    [0.95875, 0.45164, 0.74761]\n",
      "dtype: object\n",
      "Memory used: 11.76 GB\n",
      "Time elapsed 142.39 min\n",
      "val_iou                                 0.60072\n",
      "val_f1                                  0.70963\n",
      "val_f1_per_class    [0.95523, 0.43811, 0.73556]\n",
      "dtype: object\n",
      "Memory used: 11.76 GB\n",
      "Time elapsed 149.61 min\n",
      "val_iou                                 0.61144\n",
      "val_f1                                  0.71729\n",
      "val_f1_per_class    [0.95762, 0.43583, 0.75841]\n",
      "dtype: object\n"
     ]
    }
   ],
   "source": [
    "%run ./crossVal_shoes3D_torch_B5_S2_SW_256x256x256_2conv3d_Paper_Seg_3.ipynb # class_dict = {\"Karton\": 1, \"Schuh\": 2} + Background"
   ]
  },
  {
   "cell_type": "code",
   "execution_count": 2,
   "id": "3d93e4d0",
   "metadata": {},
   "outputs": [
    {
     "name": "stdout",
     "output_type": "stream",
     "text": [
      "2.6.0\n",
      "Num GPUs Available:  1\n",
      "Device 0: NVIDIA GeForce RTX 4090\n",
      "Model size: 52.88 MB\n",
      "Trainable parameters: 13803258\n",
      "Non-trainable parameters: 0\n",
      "Memory used: 11.76 GB\n",
      "Time elapsed 177.22 min\n",
      "val_iou                        0.75284\n",
      "val_f1                         0.83068\n",
      "val_f1_per_class    [0.97764, 0.68373]\n",
      "dtype: object\n",
      "Memory used: 11.76 GB\n",
      "Time elapsed 151.76 min\n",
      "val_iou                        0.76381\n",
      "val_f1                          0.8439\n",
      "val_f1_per_class    [0.98056, 0.70724]\n",
      "dtype: object\n",
      "Memory used: 11.76 GB\n",
      "Time elapsed 152.89 min\n",
      "val_iou                        0.74818\n",
      "val_f1                         0.82669\n",
      "val_f1_per_class    [0.97856, 0.67482]\n",
      "dtype: object\n",
      "Memory used: 11.76 GB\n",
      "Time elapsed 129.30 min\n",
      "val_iou                       0.76124\n",
      "val_f1                        0.84054\n",
      "val_f1_per_class    [0.98067, 0.7004]\n",
      "dtype: object\n",
      "Memory used: 11.77 GB\n",
      "Time elapsed 154.35 min\n",
      "val_iou                       0.78819\n",
      "val_f1                        0.86181\n",
      "val_f1_per_class    [0.98282, 0.7408]\n",
      "dtype: object\n"
     ]
    }
   ],
   "source": [
    "%run ./crossVal_shoes3D_torch_B5_S2_SW_256x256x256_2conv3d_Paper_Seg_2.ipynb # class_dict = {\"Innenvolumen\": 1} + Background"
   ]
  },
  {
   "cell_type": "code",
   "execution_count": 3,
   "id": "fa58dd78",
   "metadata": {},
   "outputs": [
    {
     "name": "stdout",
     "output_type": "stream",
     "text": [
      "2.6.0\n",
      "Num GPUs Available:  1\n",
      "Device 0: NVIDIA GeForce RTX 4090\n",
      "Model size: 52.89 MB\n",
      "Trainable parameters: 13804796\n",
      "Non-trainable parameters: 0\n",
      "Memory used: 11.77 GB\n",
      "Time elapsed 134.91 min\n",
      "val_iou                                           0.5811\n",
      "val_f1                                            0.6988\n",
      "val_f1_per_class    [0.98417, 0.77301, 0.46561, 0.57241]\n",
      "dtype: object\n",
      "Memory used: 11.77 GB\n",
      "Time elapsed 129.29 min\n",
      "val_iou                                         0.58376\n",
      "val_f1                                          0.69802\n",
      "val_f1_per_class    [0.9839, 0.77381, 0.44756, 0.58682]\n",
      "dtype: object\n",
      "Memory used: 11.77 GB\n",
      "Time elapsed 141.42 min\n",
      "val_iou                                        0.5883\n",
      "val_f1                                        0.70511\n",
      "val_f1_per_class    [0.98411, 0.77475, 0.4776, 0.584]\n",
      "dtype: object\n",
      "Memory used: 11.77 GB\n",
      "Time elapsed 142.36 min\n",
      "val_iou                                         0.59192\n",
      "val_f1                                          0.70631\n",
      "val_f1_per_class    [0.98497, 0.78791, 0.46128, 0.5911]\n",
      "dtype: object\n",
      "Memory used: 11.77 GB\n",
      "Time elapsed 143.79 min\n",
      "val_iou                                         0.58519\n",
      "val_f1                                          0.70057\n",
      "val_f1_per_class    [0.98392, 0.7753, 0.44537, 0.59768]\n",
      "dtype: object\n"
     ]
    }
   ],
   "source": [
    "%run ./crossVal_shoes3D_torch_B5_S2_SW_256x256x256_2conv3d_Paper_Seg_4.ipynb # class_dict = {\"Außensohle\": 1, \"Innensohle\": 2, \"Obermaterial\": 3} + Background"
   ]
  },
  {
   "cell_type": "code",
   "execution_count": 1,
   "id": "0ef84711",
   "metadata": {},
   "outputs": [
    {
     "name": "stderr",
     "output_type": "stream",
     "text": [
      "You are using a CUDA device ('NVIDIA GeForce RTX 4090') that has Tensor Cores. To properly utilize them, you should set `torch.set_float32_matmul_precision('medium' | 'high')` which will trade-off precision for performance. For more details, read https://pytorch.org/docs/stable/generated/torch.set_float32_matmul_precision.html#torch.set_float32_matmul_precision\n"
     ]
    },
    {
     "name": "stdout",
     "output_type": "stream",
     "text": [
      "2.6.0\n",
      "Num GPUs Available:  1\n",
      "Device 0: NVIDIA GeForce RTX 4090\n",
      "Model size: 52.89 MB\n",
      "Trainable parameters: 13807103\n",
      "Non-trainable parameters: 0\n",
      "Memory used: 11.76 GB\n",
      "Time elapsed 218.73 min\n",
      "val_iou                                                                    0.37483\n",
      "val_f1                                                                      0.4813\n",
      "val_f1_per_class    [0.95575, 0.43802, 0.74224, 0.4513, 0.52885, 0.13569, 0.11729]\n",
      "dtype: object\n",
      "Memory used: 11.77 GB\n",
      "Time elapsed 150.64 min\n",
      "val_iou                                                                     0.36892\n",
      "val_f1                                                                      0.47773\n",
      "val_f1_per_class    [0.94021, 0.45974, 0.72759, 0.46063, 0.52113, 0.11769, 0.11711]\n",
      "dtype: object\n",
      "Memory used: 11.77 GB\n",
      "Time elapsed 152.11 min\n",
      "val_iou                                                                     0.36866\n",
      "val_f1                                                                      0.47519\n",
      "val_f1_per_class    [0.93978, 0.39697, 0.75459, 0.46644, 0.51471, 0.15261, 0.10124]\n",
      "dtype: object\n",
      "Memory used: 11.77 GB\n",
      "Time elapsed 176.75 min\n",
      "val_iou                                                                     0.38398\n",
      "val_f1                                                                       0.4952\n",
      "val_f1_per_class    [0.96091, 0.45978, 0.74301, 0.45536, 0.51773, 0.18914, 0.14044]\n",
      "dtype: object\n",
      "Memory used: 11.77 GB\n",
      "Time elapsed 206.62 min\n",
      "val_iou                                                                   0.38593\n",
      "val_f1                                                                     0.4961\n",
      "val_f1_per_class    [0.95559, 0.457, 0.74398, 0.47867, 0.52964, 0.18638, 0.12143]\n",
      "dtype: object\n"
     ]
    }
   ],
   "source": [
    "%run ./crossVal_shoes3D_torch_B5_S2_SW_256x256x256_2conv3d_Paper_Seg_7.ipynb # class_dict = {\"Karton\": 1, \"Außensohle\": 2, \"Innensohle\": 3, \"Obermaterial\": 4, \"Zunge\": 5, \"Füllmaterial\": 6} + Background"
   ]
  },
  {
   "cell_type": "code",
   "execution_count": null,
   "id": "6c18328d",
   "metadata": {},
   "outputs": [],
   "source": []
  }
 ],
 "metadata": {
  "kernelspec": {
   "display_name": "torch260",
   "language": "python",
   "name": "python3"
  },
  "language_info": {
   "codemirror_mode": {
    "name": "ipython",
    "version": 3
   },
   "file_extension": ".py",
   "mimetype": "text/x-python",
   "name": "python",
   "nbconvert_exporter": "python",
   "pygments_lexer": "ipython3",
   "version": "3.12.9"
  }
 },
 "nbformat": 4,
 "nbformat_minor": 5
}
