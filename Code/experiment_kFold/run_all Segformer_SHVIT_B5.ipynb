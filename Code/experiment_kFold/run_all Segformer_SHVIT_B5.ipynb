{
 "cells": [
  {
   "cell_type": "code",
   "execution_count": 1,
   "id": "87B52d63",
   "metadata": {},
   "outputs": [],
   "source": [
    "# %run ./crossVal_shoes3D_torch_B5_S1_2conv3d.ipynb\n",
    "# %run ./crossVal_shoes3D_torch_B5_S2_2conv3d.ipynb\n",
    "# %run ./crossVal_shoes3D_torch_B5_S3_2conv3d.ipynb\n",
    "# %run ./crossVal_shoes3D_torch_B5_S4_2conv3d.ipynb\n",
    "\n",
    "# %run ./crossVal_shoes3D_torch_B5_S1_2conv3d.ipynb\n",
    "# %run ./crossVal_shoes3D_torch_B5_S2_2conv3d.ipynb\n",
    "# %run ./crossVal_shoes3D_torch_B5_S3_2conv3d.ipynb\n",
    "# %run ./crossVal_shoes3D_torch_B5_S4_2conv3d.ipynb"
   ]
  },
  {
   "cell_type": "code",
   "execution_count": 2,
   "id": "0a3e2714",
   "metadata": {},
   "outputs": [
    {
     "name": "stderr",
     "output_type": "stream",
     "text": [
      "You are using a CUDA device ('NVIDIA GeForce RTX 4090') that has Tensor Cores. To properly utilize them, you should set `torch.set_float32_matmul_precision('medium' | 'high')` which will trade-off precision for performance. For more details, read https://pytorch.org/docs/stable/generated/torch.set_float32_matmul_precision.html#torch.set_float32_matmul_precision\n"
     ]
    },
    {
     "name": "stdout",
     "output_type": "stream",
     "text": [
      "2.6.0\n",
      "Num GPUs Available:  1\n",
      "Device 0: NVIDIA GeForce RTX 4090\n",
      "Model size: 32.67 MB\n",
      "Trainable parameters: 8520583\n",
      "Non-trainable parameters: 0\n",
      "Memory used: 14.24 GB\n",
      "Time elapsed 168.68 min\n",
      "val_iou    0.356454\n",
      "val_f1     0.463440\n",
      "dtype: float64\n",
      "Memory used: 14.25 GB\n",
      "Time elapsed 164.75 min\n",
      "val_iou    0.360036\n",
      "val_f1     0.467452\n",
      "dtype: float64\n",
      "Memory used: 14.25 GB\n",
      "Time elapsed 143.98 min\n",
      "val_iou    0.368218\n",
      "val_f1     0.476352\n",
      "dtype: float64\n",
      "Memory used: 14.25 GB\n",
      "Time elapsed 165.16 min\n",
      "val_iou    0.361102\n",
      "val_f1     0.471344\n",
      "dtype: float64\n",
      "Memory used: 14.25 GB\n",
      "Time elapsed 157.34 min\n",
      "val_iou    0.358872\n",
      "val_f1     0.465064\n",
      "dtype: float64\n",
      "Memory used: 14.25 GB\n",
      "Time elapsed 168.31 min\n",
      "val_iou    0.358694\n",
      "val_f1     0.466482\n",
      "dtype: float64\n"
     ]
    }
   ],
   "source": [
    "%run ./crossVal_shoes3D_torch_B5_S1_224x224x224_2conv3d.ipynb"
   ]
  },
  {
   "cell_type": "code",
   "execution_count": null,
   "id": "fdb36de2",
   "metadata": {},
   "outputs": [
    {
     "name": "stdout",
     "output_type": "stream",
     "text": [
      "2.6.0\n",
      "Num GPUs Available:  1\n",
      "Device 0: NVIDIA GeForce RTX 4090\n",
      "Model size: 52.62 MB\n",
      "Trainable parameters: 13736351\n",
      "Non-trainable parameters: 0\n",
      "Memory used: 14.33 GB\n",
      "Time elapsed 160.95 min\n",
      "val_iou    0.37085\n",
      "val_f1     0.47857\n",
      "dtype: float64\n",
      "Memory used: 14.33 GB\n",
      "Time elapsed 170.08 min\n",
      "val_iou    0.371644\n",
      "val_f1     0.479944\n",
      "dtype: float64\n",
      "Memory used: 14.33 GB\n",
      "Time elapsed 152.73 min\n",
      "val_iou    0.370324\n",
      "val_f1     0.478916\n",
      "dtype: float64\n",
      "Memory used: 14.33 GB\n",
      "Time elapsed 171.34 min\n",
      "val_iou    0.366132\n",
      "val_f1     0.474270\n",
      "dtype: float64\n",
      "Memory used: 14.33 GB\n",
      "Time elapsed 160.75 min\n",
      "val_iou    0.373534\n",
      "val_f1     0.482274\n",
      "dtype: float64\n"
     ]
    }
   ],
   "source": [
    "%run ./crossVal_shoes3D_torch_B5_S2_224x224x224_2conv3d.ipynb"
   ]
  },
  {
   "cell_type": "code",
   "execution_count": 1,
   "id": "90cc1fcd",
   "metadata": {},
   "outputs": [
    {
     "name": "stderr",
     "output_type": "stream",
     "text": [
      "You are using a CUDA device ('NVIDIA GeForce RTX 4090') that has Tensor Cores. To properly utilize them, you should set `torch.set_float32_matmul_precision('medium' | 'high')` which will trade-off precision for performance. For more details, read https://pytorch.org/docs/stable/generated/torch.set_float32_matmul_precision.html#torch.set_float32_matmul_precision\n"
     ]
    },
    {
     "name": "stdout",
     "output_type": "stream",
     "text": [
      "2.6.0\n",
      "Num GPUs Available:  1\n",
      "Device 0: NVIDIA GeForce RTX 4090\n",
      "Model size: 64.22 MB\n",
      "Trainable parameters: 16763392\n",
      "Non-trainable parameters: 0\n",
      "Memory used: 17.97 GB\n",
      "Time elapsed 172.66 min\n",
      "val_iou    0.387016\n",
      "val_f1     0.497862\n",
      "dtype: float64\n",
      "Memory used: 17.97 GB\n",
      "Time elapsed 160.31 min\n",
      "val_iou    0.379070\n",
      "val_f1     0.488276\n",
      "dtype: float64\n",
      "Memory used: 17.97 GB\n",
      "Time elapsed 171.72 min\n",
      "val_iou    0.372036\n",
      "val_f1     0.478608\n",
      "dtype: float64\n",
      "Memory used: 17.97 GB\n",
      "Time elapsed 193.56 min\n",
      "val_iou    0.386538\n",
      "val_f1     0.496192\n",
      "dtype: float64\n",
      "Memory used: 17.97 GB\n",
      "Time elapsed 175.84 min\n",
      "val_iou    0.384684\n",
      "val_f1     0.494638\n",
      "dtype: float64\n"
     ]
    }
   ],
   "source": [
    "%run ./crossVal_shoes3D_torch_B5_S3_224x224x224_2conv3d.ipynb"
   ]
  },
  {
   "cell_type": "code",
   "execution_count": 2,
   "id": "d05258da",
   "metadata": {},
   "outputs": [
    {
     "name": "stdout",
     "output_type": "stream",
     "text": [
      "2.6.0\n",
      "Num GPUs Available:  1\n",
      "Device 0: NVIDIA GeForce RTX 4090\n",
      "Model size: 73.74 MB\n",
      "Trainable parameters: 19245911\n",
      "Non-trainable parameters: 0\n",
      "Memory used: 20.60 GB\n",
      "Time elapsed 188.11 min\n",
      "val_iou    0.383622\n",
      "val_f1     0.491818\n",
      "dtype: float64\n",
      "Memory used: 20.60 GB\n",
      "Time elapsed 164.52 min\n",
      "val_iou    0.371602\n",
      "val_f1     0.478780\n",
      "dtype: float64\n",
      "Memory used: 20.60 GB\n",
      "Time elapsed 210.57 min\n",
      "val_iou    0.378440\n",
      "val_f1     0.488038\n",
      "dtype: float64\n",
      "Memory used: 20.60 GB\n",
      "Time elapsed 215.30 min\n",
      "val_iou    0.371400\n",
      "val_f1     0.476584\n",
      "dtype: float64\n",
      "Memory used: 20.60 GB\n",
      "Time elapsed 207.97 min\n",
      "val_iou    0.378266\n",
      "val_f1     0.485805\n",
      "dtype: float64\n"
     ]
    }
   ],
   "source": [
    "%run ./crossVal_shoes3D_torch_B5_S4_224x224x224_2conv3d.ipynb"
   ]
  },
  {
   "cell_type": "code",
   "execution_count": null,
   "id": "24efe93d",
   "metadata": {},
   "outputs": [],
   "source": []
  }
 ],
 "metadata": {
  "kernelspec": {
   "display_name": "torch260",
   "language": "python",
   "name": "python3"
  },
  "language_info": {
   "codemirror_mode": {
    "name": "ipython",
    "version": 3
   },
   "file_extension": ".py",
   "mimetype": "text/x-python",
   "name": "python",
   "nbconvert_exporter": "python",
   "pygments_lexer": "ipython3",
   "version": "3.12.9"
  }
 },
 "nbformat": 4,
 "nbformat_minor": 5
}
