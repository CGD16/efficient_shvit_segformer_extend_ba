{
 "cells": [
  {
   "cell_type": "code",
   "execution_count": null,
   "id": "87b02d63",
   "metadata": {},
   "outputs": [],
   "source": []
  },
  {
   "cell_type": "code",
   "execution_count": null,
   "id": "24efe93d",
   "metadata": {},
   "outputs": [],
   "source": [
    "%run ./crossVal_shoes3D_torch_B5_S2_SW_KS1_224x224x224_2conv3d.ipynb"
   ]
  },
  {
   "cell_type": "code",
   "execution_count": null,
   "id": "90d0e719",
   "metadata": {},
   "outputs": [],
   "source": [
    "%run ./crossVal_shoes3D_torch_B5_S2_SW_KS3_224x224x224_2conv3d.ipynb"
   ]
  },
  {
   "cell_type": "code",
   "execution_count": null,
   "id": "a12e84d4",
   "metadata": {},
   "outputs": [],
   "source": [
    "%run ./crossVal_shoes3D_torch_B5_S2_SW_KS5_224x224x224_2conv3d.ipynb"
   ]
  },
  {
   "cell_type": "code",
   "execution_count": null,
   "id": "9780315e",
   "metadata": {},
   "outputs": [
    {
     "name": "stderr",
     "output_type": "stream",
     "text": [
      "You are using a CUDA device ('NVIDIA GeForce RTX 4090') that has Tensor Cores. To properly utilize them, you should set `torch.set_float32_matmul_precision('medium' | 'high')` which will trade-off precision for performance. For more details, read https://pytorch.org/docs/stable/generated/torch.set_float32_matmul_precision.html#torch.set_float32_matmul_precision\n"
     ]
    },
    {
     "name": "stdout",
     "output_type": "stream",
     "text": [
      "2.6.0\n",
      "Num GPUs Available:  1\n",
      "Device 0: NVIDIA GeForce RTX 4090\n",
      "Model size: 52.89 MB\n",
      "Trainable parameters: 13807103\n",
      "Non-trainable parameters: 0\n",
      "Memory used: 20.70 GB\n",
      "Time elapsed 2230.41 min\n",
      "val_iou    0.372642\n",
      "val_f1     0.481418\n",
      "dtype: float64\n",
      "Memory used: 20.70 GB\n",
      "Time elapsed 2473.93 min\n",
      "val_iou    0.367920\n",
      "val_f1     0.476596\n",
      "dtype: float64\n"
     ]
    }
   ],
   "source": [
    "%run ./crossVal_shoes3D_torch_B5_S2_SW_KS7_224x224x224_2conv3d.ipynb"
   ]
  }
 ],
 "metadata": {
  "kernelspec": {
   "display_name": "torch260",
   "language": "python",
   "name": "python3"
  },
  "language_info": {
   "codemirror_mode": {
    "name": "ipython",
    "version": 3
   },
   "file_extension": ".py",
   "mimetype": "text/x-python",
   "name": "python",
   "nbconvert_exporter": "python",
   "pygments_lexer": "ipython3",
   "version": "3.12.9"
  }
 },
 "nbformat": 4,
 "nbformat_minor": 5
}
