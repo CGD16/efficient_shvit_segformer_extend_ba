{
 "cells": [
  {
   "cell_type": "code",
   "execution_count": null,
   "id": "87b02d63",
   "metadata": {},
   "outputs": [],
   "source": []
  },
  {
   "cell_type": "code",
   "execution_count": 1,
   "id": "24efe93d",
   "metadata": {},
   "outputs": [
    {
     "name": "stderr",
     "output_type": "stream",
     "text": [
      "You are using a CUDA device ('NVIDIA GeForce RTX 4090') that has Tensor Cores. To properly utilize them, you should set `torch.set_float32_matmul_precision('medium' | 'high')` which will trade-off precision for performance. For more details, read https://pytorch.org/docs/stable/generated/torch.set_float32_matmul_precision.html#torch.set_float32_matmul_precision\n"
     ]
    },
    {
     "name": "stdout",
     "output_type": "stream",
     "text": [
      "2.5.1\n",
      "Num GPUs Available:  1\n",
      "Device 0: NVIDIA GeForce RTX 4090\n",
      "Model size: 52.89 MB\n",
      "Trainable parameters: 13807103\n",
      "Non-trainable parameters: 0\n",
      "Memory used: 7.44 GB\n",
      "Time elapsed 104.95 min\n",
      "val_iou    0.378546\n",
      "val_f1     0.486532\n",
      "dtype: float64\n",
      "Memory used: 7.44 GB\n",
      "Time elapsed 95.84 min\n",
      "val_iou    0.367722\n",
      "val_f1     0.478246\n",
      "dtype: float64\n",
      "Memory used: 7.44 GB\n",
      "Time elapsed 96.86 min\n",
      "val_iou    0.368402\n",
      "val_f1     0.477118\n",
      "dtype: float64\n",
      "Memory used: 7.44 GB\n",
      "Time elapsed 90.93 min\n",
      "val_iou    0.367914\n",
      "val_f1     0.475668\n",
      "dtype: float64\n",
      "Memory used: 7.44 GB\n",
      "Time elapsed 114.25 min\n",
      "val_iou    0.376542\n",
      "val_f1     0.485288\n",
      "dtype: float64\n"
     ]
    }
   ],
   "source": [
    "%run ./crossVal_shoes3D_torch_B5_S2_SW_KS1_224x224x224_2conv3d.ipynb"
   ]
  },
  {
   "cell_type": "code",
   "execution_count": null,
   "id": "90d0e719",
   "metadata": {},
   "outputs": [
    {
     "name": "stderr",
     "output_type": "stream",
     "text": [
      "You are using a CUDA device ('NVIDIA GeForce RTX 4090') that has Tensor Cores. To properly utilize them, you should set `torch.set_float32_matmul_precision('medium' | 'high')` which will trade-off precision for performance. For more details, read https://pytorch.org/docs/stable/generated/torch.set_float32_matmul_precision.html#torch.set_float32_matmul_precision\n"
     ]
    },
    {
     "name": "stdout",
     "output_type": "stream",
     "text": [
      "2.5.1\n",
      "Num GPUs Available:  1\n",
      "Device 0: NVIDIA GeForce RTX 4090\n",
      "Model size: 52.89 MB\n",
      "Trainable parameters: 13807103\n",
      "Non-trainable parameters: 0\n",
      "Memory used: 8.05 GB\n",
      "Time elapsed 92.60 min\n",
      "val_iou    0.366276\n",
      "val_f1     0.473142\n",
      "dtype: float64\n"
     ]
    }
   ],
   "source": [
    "%run ./crossVal_shoes3D_torch_B5_S2_SW_KS3_224x224x224_2conv3d.ipynb"
   ]
  },
  {
   "cell_type": "code",
   "execution_count": 1,
   "id": "a12e84d4",
   "metadata": {},
   "outputs": [
    {
     "name": "stderr",
     "output_type": "stream",
     "text": [
      "You are using a CUDA device ('NVIDIA GeForce RTX 4090') that has Tensor Cores. To properly utilize them, you should set `torch.set_float32_matmul_precision('medium' | 'high')` which will trade-off precision for performance. For more details, read https://pytorch.org/docs/stable/generated/torch.set_float32_matmul_precision.html#torch.set_float32_matmul_precision\n"
     ]
    },
    {
     "name": "stdout",
     "output_type": "stream",
     "text": [
      "2.5.1\n",
      "Num GPUs Available:  1\n",
      "Device 0: NVIDIA GeForce RTX 4090\n",
      "Model size: 52.89 MB\n",
      "Trainable parameters: 13807103\n",
      "Non-trainable parameters: 0\n",
      "Memory used: 10.74 GB\n",
      "Time elapsed 489.04 min\n",
      "val_iou    0.375002\n",
      "val_f1     0.483564\n",
      "dtype: float64\n",
      "Memory used: 10.74 GB\n",
      "Time elapsed 442.05 min\n",
      "val_iou    0.360846\n",
      "val_f1     0.466872\n",
      "dtype: float64\n",
      "Memory used: 10.74 GB\n",
      "Time elapsed 450.29 min\n",
      "val_iou    0.376944\n",
      "val_f1     0.486654\n",
      "dtype: float64\n",
      "Memory used: 10.74 GB\n",
      "Time elapsed 447.23 min\n",
      "val_iou    0.371316\n",
      "val_f1     0.480654\n",
      "dtype: float64\n",
      "Memory used: 10.74 GB\n",
      "Time elapsed 435.18 min\n",
      "val_iou    0.370812\n",
      "val_f1     0.477548\n",
      "dtype: float64\n"
     ]
    }
   ],
   "source": [
    "%run ./crossVal_shoes3D_torch_B5_S2_SW_KS5_224x224x224_2conv3d.ipynb"
   ]
  },
  {
   "cell_type": "code",
   "execution_count": null,
   "id": "9780315e",
   "metadata": {},
   "outputs": [
    {
     "name": "stderr",
     "output_type": "stream",
     "text": [
      "You are using a CUDA device ('NVIDIA GeForce RTX 4090') that has Tensor Cores. To properly utilize them, you should set `torch.set_float32_matmul_precision('medium' | 'high')` which will trade-off precision for performance. For more details, read https://pytorch.org/docs/stable/generated/torch.set_float32_matmul_precision.html#torch.set_float32_matmul_precision\n"
     ]
    },
    {
     "name": "stdout",
     "output_type": "stream",
     "text": [
      "2.5.1\n",
      "Num GPUs Available:  1\n",
      "Device 0: NVIDIA GeForce RTX 4090\n",
      "Model size: 52.89 MB\n",
      "Trainable parameters: 13807103\n",
      "Non-trainable parameters: 0\n",
      "Memory used: 20.70 GB\n",
      "Time elapsed 2122.89 min\n",
      "val_iou    0.350302\n",
      "val_f1     0.454562\n",
      "dtype: float64\n",
      "Memory used: 20.70 GB\n",
      "Time elapsed 2431.11 min\n",
      "val_iou    0.368604\n",
      "val_f1     0.476956\n",
      "dtype: float64\n"
     ]
    }
   ],
   "source": [
    "%run ./crossVal_shoes3D_torch_B5_S2_SW_KS7_224x224x224_2conv3d.ipynb"
   ]
  },
  {
   "cell_type": "code",
   "execution_count": null,
   "id": "d1a64837",
   "metadata": {},
   "outputs": [],
   "source": []
  }
 ],
 "metadata": {
  "kernelspec": {
   "display_name": "torch251",
   "language": "python",
   "name": "python3"
  },
  "language_info": {
   "codemirror_mode": {
    "name": "ipython",
    "version": 3
   },
   "file_extension": ".py",
   "mimetype": "text/x-python",
   "name": "python",
   "nbconvert_exporter": "python",
   "pygments_lexer": "ipython3",
   "version": "3.10.13"
  }
 },
 "nbformat": 4,
 "nbformat_minor": 5
}
