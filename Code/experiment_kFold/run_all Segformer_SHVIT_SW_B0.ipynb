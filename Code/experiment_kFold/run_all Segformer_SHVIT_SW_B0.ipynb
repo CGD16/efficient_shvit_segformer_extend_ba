{
 "cells": [
  {
   "cell_type": "code",
   "execution_count": null,
   "id": "87b02d63",
   "metadata": {},
   "outputs": [],
   "source": []
  },
  {
   "cell_type": "code",
   "execution_count": 1,
   "id": "0a3e2714",
   "metadata": {},
   "outputs": [
    {
     "name": "stderr",
     "output_type": "stream",
     "text": [
      "You are using a CUDA device ('NVIDIA GeForce RTX 4090') that has Tensor Cores. To properly utilize them, you should set `torch.set_float32_matmul_precision('medium' | 'high')` which will trade-off precision for performance. For more details, read https://pytorch.org/docs/stable/generated/torch.set_float32_matmul_precision.html#torch.set_float32_matmul_precision\n"
     ]
    },
    {
     "name": "stdout",
     "output_type": "stream",
     "text": [
      "2.5.1\n",
      "Num GPUs Available:  1\n",
      "Device 0: NVIDIA GeForce RTX 4090\n",
      "Model size: 25.48 MB\n",
      "Trainable parameters: 6635143\n",
      "Non-trainable parameters: 0\n",
      "Memory used: 5.27 GB\n",
      "Time elapsed 64.34 min\n",
      "val_iou    0.294832\n",
      "val_f1     0.398904\n",
      "dtype: float64\n",
      "Memory used: 5.28 GB\n",
      "Time elapsed 72.73 min\n",
      "val_iou    0.285436\n",
      "val_f1     0.392010\n",
      "dtype: float64\n",
      "Memory used: 5.28 GB\n",
      "Time elapsed 69.23 min\n",
      "val_iou    0.291850\n",
      "val_f1     0.395148\n",
      "dtype: float64\n",
      "Memory used: 5.28 GB\n",
      "Time elapsed 73.38 min\n",
      "val_iou    0.287484\n",
      "val_f1     0.389110\n",
      "dtype: float64\n",
      "Memory used: 5.28 GB\n",
      "Time elapsed 73.35 min\n",
      "val_iou    0.280604\n",
      "val_f1     0.380196\n",
      "dtype: float64\n"
     ]
    }
   ],
   "source": [
    "%run ./crossVal_shoes3D_torch_B0_S1_SW_224x224x224_2conv3d.ipynb"
   ]
  },
  {
   "cell_type": "code",
   "execution_count": 2,
   "id": "fdb36de2",
   "metadata": {},
   "outputs": [
    {
     "name": "stdout",
     "output_type": "stream",
     "text": [
      "2.5.1\n",
      "Num GPUs Available:  1\n",
      "Device 0: NVIDIA GeForce RTX 4090\n",
      "Model size: 45.14 MB\n",
      "Trainable parameters: 11775487\n",
      "Non-trainable parameters: 0\n",
      "Memory used: 5.82 GB\n",
      "Time elapsed 68.08 min\n",
      "val_iou    0.282762\n",
      "val_f1     0.388714\n",
      "dtype: float64\n",
      "Memory used: 5.82 GB\n",
      "Time elapsed 74.25 min\n",
      "val_iou    0.291976\n",
      "val_f1     0.396126\n",
      "dtype: float64\n",
      "Memory used: 5.82 GB\n",
      "Time elapsed 72.86 min\n",
      "val_iou    0.285636\n",
      "val_f1     0.390536\n",
      "dtype: float64\n",
      "Memory used: 5.83 GB\n",
      "Time elapsed 75.99 min\n",
      "val_iou    0.283832\n",
      "val_f1     0.386136\n",
      "dtype: float64\n",
      "Memory used: 5.83 GB\n",
      "Time elapsed 68.24 min\n",
      "val_iou    0.289208\n",
      "val_f1     0.392062\n",
      "dtype: float64\n"
     ]
    }
   ],
   "source": [
    "%run ./crossVal_shoes3D_torch_B0_S2_SW_224x224x224_2conv3d.ipynb"
   ]
  },
  {
   "cell_type": "code",
   "execution_count": 3,
   "id": "90cc1fcd",
   "metadata": {},
   "outputs": [
    {
     "name": "stdout",
     "output_type": "stream",
     "text": [
      "2.5.1\n",
      "Num GPUs Available:  1\n",
      "Device 0: NVIDIA GeForce RTX 4090\n",
      "Model size: 56.69 MB\n",
      "Trainable parameters: 14790480\n",
      "Non-trainable parameters: 0\n",
      "Memory used: 8.06 GB\n",
      "Time elapsed 101.48 min\n",
      "val_iou    0.288858\n",
      "val_f1     0.395896\n",
      "dtype: float64\n",
      "Memory used: 8.06 GB\n",
      "Time elapsed 95.43 min\n",
      "val_iou    0.293728\n",
      "val_f1     0.402408\n",
      "dtype: float64\n",
      "Memory used: 8.06 GB\n",
      "Time elapsed 96.82 min\n",
      "val_iou    0.289542\n",
      "val_f1     0.395326\n",
      "dtype: float64\n",
      "Memory used: 8.06 GB\n",
      "Time elapsed 90.89 min\n",
      "val_iou    0.294252\n",
      "val_f1     0.402724\n",
      "dtype: float64\n",
      "Memory used: 8.06 GB\n",
      "Time elapsed 101.51 min\n",
      "val_iou    0.292966\n",
      "val_f1     0.402722\n",
      "dtype: float64\n"
     ]
    }
   ],
   "source": [
    "%run ./crossVal_shoes3D_torch_B0_S3_SW_224x224x224_2conv3d.ipynb"
   ]
  },
  {
   "cell_type": "code",
   "execution_count": 1,
   "id": "d05258da",
   "metadata": {},
   "outputs": [
    {
     "name": "stderr",
     "output_type": "stream",
     "text": [
      "You are using a CUDA device ('NVIDIA GeForce RTX 4090') that has Tensor Cores. To properly utilize them, you should set `torch.set_float32_matmul_precision('medium' | 'high')` which will trade-off precision for performance. For more details, read https://pytorch.org/docs/stable/generated/torch.set_float32_matmul_precision.html#torch.set_float32_matmul_precision\n"
     ]
    },
    {
     "name": "stdout",
     "output_type": "stream",
     "text": [
      "2.5.1\n",
      "Num GPUs Available:  1\n",
      "Device 0: NVIDIA GeForce RTX 4090\n",
      "Model size: 66.30 MB\n",
      "Trainable parameters: 17297975\n",
      "Non-trainable parameters: 0\n",
      "Memory used: 10.36 GB\n",
      "Time elapsed 100.21 min\n",
      "val_iou    0.291124\n",
      "val_f1     0.396450\n",
      "dtype: float64\n",
      "Memory used: 10.36 GB\n",
      "Time elapsed 98.62 min\n",
      "val_iou    0.287172\n",
      "val_f1     0.393194\n",
      "dtype: float64\n",
      "Memory used: 10.36 GB\n",
      "Time elapsed 115.18 min\n",
      "val_iou    0.291708\n",
      "val_f1     0.396290\n",
      "dtype: float64\n",
      "Memory used: 10.36 GB\n",
      "Time elapsed 111.46 min\n",
      "val_iou    0.292964\n",
      "val_f1     0.398864\n",
      "dtype: float64\n",
      "Memory used: 10.36 GB\n",
      "Time elapsed 101.09 min\n",
      "val_iou    0.286874\n",
      "val_f1     0.393464\n",
      "dtype: float64\n"
     ]
    }
   ],
   "source": [
    "%run ./crossVal_shoes3D_torch_B0_S4_SW_224x224x224_2conv3d.ipynb"
   ]
  },
  {
   "cell_type": "code",
   "execution_count": null,
   "id": "24efe93d",
   "metadata": {},
   "outputs": [],
   "source": []
  },
  {
   "cell_type": "code",
   "execution_count": null,
   "id": "5f477f94",
   "metadata": {},
   "outputs": [],
   "source": []
  }
 ],
 "metadata": {
  "kernelspec": {
   "display_name": "torch260",
   "language": "python",
   "name": "python3"
  },
  "language_info": {
   "codemirror_mode": {
    "name": "ipython",
    "version": 3
   },
   "file_extension": ".py",
   "mimetype": "text/x-python",
   "name": "python",
   "nbconvert_exporter": "python",
   "pygments_lexer": "ipython3",
   "version": "3.12.9"
  }
 },
 "nbformat": 4,
 "nbformat_minor": 5
}
