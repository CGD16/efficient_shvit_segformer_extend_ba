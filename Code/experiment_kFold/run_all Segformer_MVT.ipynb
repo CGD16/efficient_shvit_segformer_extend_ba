{
 "cells": [
  {
   "cell_type": "code",
   "execution_count": null,
   "id": "87b02d63",
   "metadata": {},
   "outputs": [],
   "source": []
  },
  {
   "cell_type": "code",
   "execution_count": 1,
   "id": "bbae1a87",
   "metadata": {},
   "outputs": [
    {
     "name": "stderr",
     "output_type": "stream",
     "text": [
      "You are using a CUDA device ('NVIDIA GeForce RTX 4090') that has Tensor Cores. To properly utilize them, you should set `torch.set_float32_matmul_precision('medium' | 'high')` which will trade-off precision for performance. For more details, read https://pytorch.org/docs/stable/generated/torch.set_float32_matmul_precision.html#torch.set_float32_matmul_precision\n"
     ]
    },
    {
     "name": "stdout",
     "output_type": "stream",
     "text": [
      "2.6.0\n",
      "Num GPUs Available:  1\n",
      "Device 0: NVIDIA GeForce RTX 4090\n",
      "Model size: 23.91 MB\n",
      "Trainable parameters: 6266855\n",
      "Non-trainable parameters: 0\n",
      "Memory used: 2.99 GB\n",
      "val_iou    0.095458\n",
      "val_f1     0.134242\n",
      "dtype: float64\n",
      "Memory used: 3.00 GB\n",
      "val_iou    0.139786\n",
      "val_f1     0.179594\n",
      "dtype: float64\n",
      "Memory used: 3.00 GB\n",
      "val_iou    0.140484\n",
      "val_f1     0.176798\n",
      "dtype: float64\n",
      "Memory used: 3.00 GB\n",
      "val_iou    0.107458\n",
      "val_f1     0.144572\n",
      "dtype: float64\n",
      "Memory used: 3.00 GB\n",
      "val_iou    0.113214\n",
      "val_f1     0.155276\n",
      "dtype: float64\n",
      "Memory used: 3.00 GB\n",
      "val_iou    0.09832\n",
      "val_f1     0.13255\n",
      "dtype: float64\n"
     ]
    }
   ],
   "source": [
    "%run ./crossVal_shoes3D_torch_MVT_B0_224x224x224_2conv3d.ipynb"
   ]
  },
  {
   "cell_type": "code",
   "execution_count": 1,
   "id": "3d93e4d0",
   "metadata": {},
   "outputs": [
    {
     "name": "stderr",
     "output_type": "stream",
     "text": [
      "You are using a CUDA device ('NVIDIA GeForce RTX 4090') that has Tensor Cores. To properly utilize them, you should set `torch.set_float32_matmul_precision('medium' | 'high')` which will trade-off precision for performance. For more details, read https://pytorch.org/docs/stable/generated/torch.set_float32_matmul_precision.html#torch.set_float32_matmul_precision\n"
     ]
    },
    {
     "name": "stdout",
     "output_type": "stream",
     "text": [
      "2.6.0\n",
      "Num GPUs Available:  1\n",
      "Device 0: NVIDIA GeForce RTX 4090\n",
      "Model size: 90.52 MB\n",
      "Trainable parameters: 23728839\n",
      "Non-trainable parameters: 0\n",
      "Memory used: 3.62 GB\n",
      "val_iou    0.126656\n",
      "val_f1     0.161420\n",
      "dtype: float64\n",
      "Memory used: 3.64 GB\n",
      "val_iou    0.146786\n",
      "val_f1     0.192044\n",
      "dtype: float64\n",
      "Memory used: 3.64 GB\n",
      "val_iou    0.123558\n",
      "val_f1     0.157828\n",
      "dtype: float64\n",
      "Memory used: 3.64 GB\n",
      "val_iou    0.127516\n",
      "val_f1     0.167810\n",
      "dtype: float64\n",
      "Memory used: 3.64 GB\n",
      "val_iou    0.145472\n",
      "val_f1     0.190080\n",
      "dtype: float64\n",
      "Memory used: 3.64 GB\n",
      "val_iou    0.163358\n",
      "val_f1     0.202388\n",
      "dtype: float64\n"
     ]
    }
   ],
   "source": [
    "%run ./crossVal_shoes3D_torch_MVT_B1_224x224x224_2conv3d.ipynb"
   ]
  },
  {
   "cell_type": "code",
   "execution_count": 2,
   "id": "fa58dd78",
   "metadata": {},
   "outputs": [
    {
     "name": "stdout",
     "output_type": "stream",
     "text": [
      "2.6.0\n",
      "Num GPUs Available:  1\n",
      "Device 0: NVIDIA GeForce RTX 4090\n",
      "Model size: 162.49 MB\n",
      "Trainable parameters: 42593799\n",
      "Non-trainable parameters: 0\n",
      "Memory used: 7.55 GB\n",
      "val_iou    0.141008\n",
      "val_f1     0.172348\n",
      "dtype: float64\n",
      "Memory used: 7.55 GB\n",
      "val_iou    0.131492\n",
      "val_f1     0.163730\n",
      "dtype: float64\n",
      "Memory used: 7.55 GB\n",
      "val_iou    0.131204\n",
      "val_f1     0.159364\n",
      "dtype: float64\n",
      "Memory used: 7.55 GB\n",
      "val_iou    0.142452\n",
      "val_f1     0.171152\n",
      "dtype: float64\n",
      "Memory used: 7.55 GB\n",
      "val_iou    0.109756\n",
      "val_f1     0.139420\n",
      "dtype: float64\n",
      "Memory used: 7.55 GB\n",
      "val_iou    0.133948\n",
      "val_f1     0.171052\n",
      "dtype: float64\n"
     ]
    }
   ],
   "source": [
    "%run ./crossVal_shoes3D_torch_MVT_B2_224x224x224_2conv3d.ipynb"
   ]
  },
  {
   "cell_type": "code",
   "execution_count": 3,
   "id": "0ef84711",
   "metadata": {},
   "outputs": [
    {
     "name": "stdout",
     "output_type": "stream",
     "text": [
      "2.6.0\n",
      "Num GPUs Available:  1\n",
      "Device 0: NVIDIA GeForce RTX 4090\n",
      "Model size: 258.07 MB\n",
      "Trainable parameters: 67649799\n",
      "Non-trainable parameters: 0\n",
      "Memory used: 8.25 GB\n",
      "val_iou    0.136518\n",
      "val_f1     0.167490\n",
      "dtype: float64\n",
      "Memory used: 8.25 GB\n",
      "val_iou    0.129556\n",
      "val_f1     0.160490\n",
      "dtype: float64\n",
      "Memory used: 8.25 GB\n",
      "val_iou    0.147806\n",
      "val_f1     0.181606\n",
      "dtype: float64\n",
      "Memory used: 8.25 GB\n",
      "val_iou    0.134268\n",
      "val_f1     0.168536\n",
      "dtype: float64\n",
      "Memory used: 8.25 GB\n",
      "val_iou    0.138696\n",
      "val_f1     0.172848\n",
      "dtype: float64\n",
      "Memory used: 8.25 GB\n",
      "val_iou    0.121224\n",
      "val_f1     0.152848\n",
      "dtype: float64\n"
     ]
    }
   ],
   "source": [
    "%run ./crossVal_shoes3D_torch_MVT_B3_224x224x224_2conv3d.ipynb"
   ]
  },
  {
   "cell_type": "code",
   "execution_count": 1,
   "id": "cbea2362",
   "metadata": {},
   "outputs": [
    {
     "name": "stderr",
     "output_type": "stream",
     "text": [
      "You are using a CUDA device ('NVIDIA GeForce RTX 4090') that has Tensor Cores. To properly utilize them, you should set `torch.set_float32_matmul_precision('medium' | 'high')` which will trade-off precision for performance. For more details, read https://pytorch.org/docs/stable/generated/torch.set_float32_matmul_precision.html#torch.set_float32_matmul_precision\n"
     ]
    },
    {
     "name": "stdout",
     "output_type": "stream",
     "text": [
      "2.6.0\n",
      "Num GPUs Available:  1\n",
      "Device 0: NVIDIA GeForce RTX 4090\n",
      "Model size: 349.00 MB\n",
      "Trainable parameters: 91486535\n",
      "Non-trainable parameters: 0\n",
      "Memory used: 9.32 GB\n",
      "val_iou    0.129094\n",
      "val_f1     0.157766\n",
      "dtype: float64\n",
      "Memory used: 9.33 GB\n",
      "val_iou    0.128718\n",
      "val_f1     0.159826\n",
      "dtype: float64\n",
      "Memory used: 9.33 GB\n",
      "val_iou    0.136408\n",
      "val_f1     0.169912\n",
      "dtype: float64\n",
      "Memory used: 9.33 GB\n",
      "val_iou    0.144215\n",
      "val_f1     0.168654\n",
      "dtype: float64\n",
      "Memory used: 9.33 GB\n",
      "val_iou    0.166811\n",
      "val_f1     0.198159\n",
      "dtype: float64\n",
      "Memory used: 9.33 GB\n",
      "val_iou    0.154713\n",
      "val_f1     0.187249\n",
      "dtype: float64\n"
     ]
    }
   ],
   "source": [
    "%run ./crossVal_shoes3D_torch_MVT_B4_224x224x224_2conv3d.ipynb"
   ]
  },
  {
   "cell_type": "code",
   "execution_count": 2,
   "id": "a5501f29",
   "metadata": {},
   "outputs": [
    {
     "name": "stdout",
     "output_type": "stream",
     "text": [
      "2.6.0\n",
      "Num GPUs Available:  1\n",
      "Device 0: NVIDIA GeForce RTX 4090\n",
      "Model size: 442.92 MB\n",
      "Trainable parameters: 116108167\n",
      "Non-trainable parameters: 0\n",
      "Memory used: 9.80 GB\n",
      "val_iou    0.189279\n",
      "val_f1     0.223007\n",
      "dtype: float64\n",
      "Memory used: 9.80 GB\n",
      "val_iou    0.105064\n",
      "val_f1     0.126365\n",
      "dtype: float64\n",
      "Memory used: 9.80 GB\n",
      "val_iou    0.173471\n",
      "val_f1     0.200217\n",
      "dtype: float64\n",
      "Memory used: 9.80 GB\n",
      "val_iou    0.126022\n",
      "val_f1     0.143058\n",
      "dtype: float64\n",
      "Memory used: 9.80 GB\n",
      "val_iou    0.147606\n",
      "val_f1     0.170749\n",
      "dtype: float64\n",
      "Memory used: 9.80 GB\n",
      "val_iou    0.148288\n",
      "val_f1     0.172679\n",
      "dtype: float64\n"
     ]
    }
   ],
   "source": [
    "%run ./crossVal_shoes3D_torch_MVT_B5_224x224x224_2conv3d.ipynb"
   ]
  },
  {
   "cell_type": "code",
   "execution_count": null,
   "id": "6c18328d",
   "metadata": {},
   "outputs": [],
   "source": []
  }
 ],
 "metadata": {
  "kernelspec": {
   "display_name": "torch260",
   "language": "python",
   "name": "python3"
  },
  "language_info": {
   "codemirror_mode": {
    "name": "ipython",
    "version": 3
   },
   "file_extension": ".py",
   "mimetype": "text/x-python",
   "name": "python",
   "nbconvert_exporter": "python",
   "pygments_lexer": "ipython3",
   "version": "3.12.9"
  }
 },
 "nbformat": 4,
 "nbformat_minor": 5
}
