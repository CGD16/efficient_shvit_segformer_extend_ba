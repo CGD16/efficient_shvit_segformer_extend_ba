{
 "cells": [
  {
   "cell_type": "code",
   "execution_count": null,
   "id": "87b02d63",
   "metadata": {},
   "outputs": [],
   "source": []
  },
  {
   "cell_type": "code",
   "execution_count": 1,
   "id": "84cefaa9",
   "metadata": {},
   "outputs": [
    {
     "name": "stderr",
     "output_type": "stream",
     "text": [
      "You are using a CUDA device ('NVIDIA GeForce RTX 4090') that has Tensor Cores. To properly utilize them, you should set `torch.set_float32_matmul_precision('medium' | 'high')` which will trade-off precision for performance. For more details, read https://pytorch.org/docs/stable/generated/torch.set_float32_matmul_precision.html#torch.set_float32_matmul_precision\n"
     ]
    },
    {
     "name": "stdout",
     "output_type": "stream",
     "text": [
      "2.6.0\n",
      "Num GPUs Available:  1\n",
      "Device 0: NVIDIA GeForce RTX 4090\n",
      "Model size: 32.82 MB\n",
      "Trainable parameters: 8558215\n",
      "Non-trainable parameters: 0\n",
      "Memory used: 7.48 GB\n",
      "Time elapsed 110.76 min\n",
      "val_iou    0.370730\n",
      "val_f1     0.478826\n",
      "dtype: float64\n",
      "Memory used: 7.49 GB\n",
      "Time elapsed 111.91 min\n",
      "val_iou    0.359040\n",
      "val_f1     0.466294\n",
      "dtype: float64\n",
      "Memory used: 7.49 GB\n",
      "Time elapsed 123.01 min\n",
      "val_iou    0.360044\n",
      "val_f1     0.466746\n",
      "dtype: float64\n",
      "Memory used: 7.49 GB\n",
      "Time elapsed 118.63 min\n",
      "val_iou    0.362144\n",
      "val_f1     0.470308\n",
      "dtype: float64\n",
      "Memory used: 7.49 GB\n",
      "Time elapsed 100.00 min\n",
      "val_iou    0.35194\n",
      "val_f1     0.45835\n",
      "dtype: float64\n"
     ]
    }
   ],
   "source": [
    "%run ./crossVal_shoes3D_torch_B5_S1_SW_224x224x224_2conv3d.ipynb"
   ]
  },
  {
   "cell_type": "code",
   "execution_count": 1,
   "id": "d24ab6f6",
   "metadata": {},
   "outputs": [
    {
     "name": "stderr",
     "output_type": "stream",
     "text": [
      "You are using a CUDA device ('NVIDIA GeForce RTX 4090') that has Tensor Cores. To properly utilize them, you should set `torch.set_float32_matmul_precision('medium' | 'high')` which will trade-off precision for performance. For more details, read https://pytorch.org/docs/stable/generated/torch.set_float32_matmul_precision.html#torch.set_float32_matmul_precision\n"
     ]
    },
    {
     "name": "stdout",
     "output_type": "stream",
     "text": [
      "2.6.0\n",
      "Num GPUs Available:  1\n",
      "Device 0: NVIDIA GeForce RTX 4090\n",
      "Model size: 52.89 MB\n",
      "Trainable parameters: 13807103\n",
      "Non-trainable parameters: 0\n",
      "Memory used: 8.05 GB\n",
      "Time elapsed 117.12 min\n",
      "val_iou    0.375482\n",
      "val_f1     0.484968\n",
      "dtype: float64\n",
      "Memory used: 8.05 GB\n",
      "Time elapsed 114.05 min\n",
      "val_iou    0.372326\n",
      "val_f1     0.481174\n",
      "dtype: float64\n",
      "Memory used: 8.05 GB\n",
      "Time elapsed 115.05 min\n",
      "val_iou    0.363824\n",
      "val_f1     0.470690\n",
      "dtype: float64\n",
      "Memory used: 8.05 GB\n",
      "Time elapsed 105.66 min\n",
      "val_iou    0.376076\n",
      "val_f1     0.478978\n",
      "dtype: float64\n",
      "Memory used: 8.05 GB\n",
      "Time elapsed 100.00 min\n",
      "val_iou    0.376118\n",
      "val_f1     0.486166\n",
      "dtype: float64\n"
     ]
    }
   ],
   "source": [
    "%run ./crossVal_shoes3D_torch_B5_S2_SW_224x224x224_2conv3d.ipynb"
   ]
  },
  {
   "cell_type": "code",
   "execution_count": 1,
   "id": "0067e48f",
   "metadata": {},
   "outputs": [
    {
     "name": "stderr",
     "output_type": "stream",
     "text": [
      "You are using a CUDA device ('NVIDIA GeForce RTX 4090') that has Tensor Cores. To properly utilize them, you should set `torch.set_float32_matmul_precision('medium' | 'high')` which will trade-off precision for performance. For more details, read https://pytorch.org/docs/stable/generated/torch.set_float32_matmul_precision.html#torch.set_float32_matmul_precision\n"
     ]
    },
    {
     "name": "stdout",
     "output_type": "stream",
     "text": [
      "2.6.0\n",
      "Num GPUs Available:  1\n",
      "Device 0: NVIDIA GeForce RTX 4090\n",
      "Model size: 64.65 MB\n",
      "Trainable parameters: 16877392\n",
      "Non-trainable parameters: 0\n",
      "Memory used: 10.21 GB\n",
      "Time elapsed 126.69 min\n",
      "val_iou    0.376978\n",
      "val_f1     0.484776\n",
      "dtype: float64\n",
      "Memory used: 10.22 GB\n",
      "Time elapsed 133.44 min\n",
      "val_iou    0.372282\n",
      "val_f1     0.478310\n",
      "dtype: float64\n",
      "Memory used: 10.22 GB\n",
      "Time elapsed 146.03 min\n",
      "val_iou    0.363862\n",
      "val_f1     0.468614\n",
      "dtype: float64\n",
      "Memory used: 10.22 GB\n",
      "Time elapsed 135.03 min\n",
      "val_iou    0.371804\n",
      "val_f1     0.478760\n",
      "dtype: float64\n",
      "Memory used: 10.22 GB\n",
      "Time elapsed 123.84 min\n",
      "val_iou    0.372588\n",
      "val_f1     0.479132\n",
      "dtype: float64\n"
     ]
    }
   ],
   "source": [
    "%run ./crossVal_shoes3D_torch_B5_S3_SW_224x224x224_2conv3d.ipynb"
   ]
  },
  {
   "cell_type": "code",
   "execution_count": 2,
   "id": "5c0151d6",
   "metadata": {},
   "outputs": [
    {
     "name": "stdout",
     "output_type": "stream",
     "text": [
      "2.6.0\n",
      "Num GPUs Available:  1\n",
      "Device 0: NVIDIA GeForce RTX 4090\n",
      "Model size: 74.30 MB\n",
      "Trainable parameters: 19393079\n",
      "Non-trainable parameters: 0\n",
      "Memory used: 12.15 GB\n",
      "Time elapsed 132.34 min\n",
      "val_iou    0.373576\n",
      "val_f1     0.480680\n",
      "dtype: float64\n",
      "Memory used: 12.15 GB\n",
      "Time elapsed 145.24 min\n",
      "val_iou    0.375062\n",
      "val_f1     0.482640\n",
      "dtype: float64\n",
      "Memory used: 12.15 GB\n",
      "Time elapsed 133.30 min\n",
      "val_iou    0.375150\n",
      "val_f1     0.482226\n",
      "dtype: float64\n",
      "Memory used: 12.15 GB\n",
      "Time elapsed 141.20 min\n",
      "val_iou    0.380994\n",
      "val_f1     0.488562\n",
      "dtype: float64\n",
      "Memory used: 12.15 GB\n",
      "Time elapsed 136.55 min\n",
      "val_iou    0.356982\n",
      "val_f1     0.461396\n",
      "dtype: float64\n"
     ]
    }
   ],
   "source": [
    "%run ./crossVal_shoes3D_torch_B5_S4_SW_224x224x224_2conv3d.ipynb"
   ]
  },
  {
   "cell_type": "code",
   "execution_count": null,
   "id": "441d5cc1",
   "metadata": {},
   "outputs": [],
   "source": []
  }
 ],
 "metadata": {
  "kernelspec": {
   "display_name": "torch260",
   "language": "python",
   "name": "python3"
  },
  "language_info": {
   "codemirror_mode": {
    "name": "ipython",
    "version": 3
   },
   "file_extension": ".py",
   "mimetype": "text/x-python",
   "name": "python",
   "nbconvert_exporter": "python",
   "pygments_lexer": "ipython3",
   "version": "3.12.9"
  }
 },
 "nbformat": 4,
 "nbformat_minor": 5
}
