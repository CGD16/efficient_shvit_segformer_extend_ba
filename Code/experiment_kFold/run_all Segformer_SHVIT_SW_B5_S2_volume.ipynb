{
 "cells": [
  {
   "cell_type": "code",
   "execution_count": null,
   "id": "87b02d63",
   "metadata": {},
   "outputs": [],
   "source": []
  },
  {
   "cell_type": "code",
   "execution_count": 1,
   "id": "89bbbf01",
   "metadata": {},
   "outputs": [
    {
     "name": "stderr",
     "output_type": "stream",
     "text": [
      "You are using a CUDA device ('NVIDIA GeForce RTX 4090') that has Tensor Cores. To properly utilize them, you should set `torch.set_float32_matmul_precision('medium' | 'high')` which will trade-off precision for performance. For more details, read https://pytorch.org/docs/stable/generated/torch.set_float32_matmul_precision.html#torch.set_float32_matmul_precision\n"
     ]
    },
    {
     "name": "stdout",
     "output_type": "stream",
     "text": [
      "2.6.0\n",
      "Num GPUs Available:  1\n",
      "Device 0: NVIDIA GeForce RTX 4090\n",
      "Model size: 52.89 MB\n",
      "Trainable parameters: 13807103\n",
      "Non-trainable parameters: 0\n",
      "Memory used: 0.19 GB\n",
      "Time elapsed 17.08 min\n",
      "val_iou                                                                   0.16103\n",
      "val_f1                                                                    0.21648\n",
      "val_f1_per_class    [0.81182, 0.03922, 0.38898, 0.09303, 0.13679, 0.01952, 0.026]\n",
      "dtype: object\n",
      "Memory used: 0.19 GB\n",
      "Time elapsed 15.69 min\n",
      "val_iou                                                                    0.16529\n",
      "val_f1                                                                     0.22054\n",
      "val_f1_per_class    [0.8317, 0.03339, 0.38306, 0.10623, 0.13212, 0.02029, 0.03699]\n",
      "dtype: object\n",
      "Memory used: 0.19 GB\n",
      "Time elapsed 16.85 min\n",
      "val_iou                                                                     0.17032\n",
      "val_f1                                                                      0.22595\n",
      "val_f1_per_class    [0.83582, 0.04137, 0.41569, 0.10363, 0.13505, 0.01994, 0.03013]\n",
      "dtype: object\n",
      "Memory used: 0.19 GB\n",
      "Time elapsed 19.21 min\n",
      "val_iou                                                                     0.16926\n",
      "val_f1                                                                      0.22603\n",
      "val_f1_per_class    [0.83062, 0.05149, 0.41618, 0.10126, 0.13075, 0.02463, 0.02728]\n",
      "dtype: object\n",
      "Memory used: 0.19 GB\n",
      "Time elapsed 17.38 min\n",
      "val_iou                                                                     0.17217\n",
      "val_f1                                                                      0.22534\n",
      "val_f1_per_class    [0.84598, 0.05721, 0.39457, 0.09103, 0.13219, 0.03493, 0.02152]\n",
      "dtype: object\n"
     ]
    }
   ],
   "source": [
    "%run ./crossVal_shoes3D_torch_B5_S2_SW_VOLUME_32x32x32_2conv3d.ipynb"
   ]
  },
  {
   "cell_type": "code",
   "execution_count": 2,
   "id": "cf8b8df6",
   "metadata": {},
   "outputs": [
    {
     "name": "stdout",
     "output_type": "stream",
     "text": [
      "2.6.0\n",
      "Num GPUs Available:  1\n",
      "Device 0: NVIDIA GeForce RTX 4090\n",
      "Model size: 52.89 MB\n",
      "Trainable parameters: 13807103\n",
      "Non-trainable parameters: 0\n",
      "Memory used: 0.49 GB\n",
      "Time elapsed 18.87 min\n",
      "val_iou                                                                     0.23995\n",
      "val_f1                                                                      0.32593\n",
      "val_f1_per_class    [0.87453, 0.19145, 0.54322, 0.23769, 0.29065, 0.09076, 0.05321]\n",
      "dtype: object\n",
      "Memory used: 0.49 GB\n",
      "Time elapsed 19.33 min\n",
      "val_iou                                                                      0.2317\n",
      "val_f1                                                                      0.31474\n",
      "val_f1_per_class    [0.87338, 0.17304, 0.53143, 0.22087, 0.27349, 0.08177, 0.04921]\n",
      "dtype: object\n",
      "Memory used: 0.49 GB\n",
      "Time elapsed 15.43 min\n",
      "val_iou                                                                  0.24032\n",
      "val_f1                                                                   0.32724\n",
      "val_f1_per_class    [0.8729, 0.19057, 0.5477, 0.25116, 0.28656, 0.09164, 0.0501]\n",
      "dtype: object\n",
      "Memory used: 0.49 GB\n",
      "Time elapsed 20.92 min\n",
      "val_iou                                                                   0.22919\n",
      "val_f1                                                                    0.31143\n",
      "val_f1_per_class    [0.86617, 0.178, 0.52203, 0.22628, 0.26878, 0.06404, 0.05468]\n",
      "dtype: object\n",
      "Memory used: 0.49 GB\n",
      "Time elapsed 19.03 min\n",
      "val_iou                                                                     0.24075\n",
      "val_f1                                                                      0.32697\n",
      "val_f1_per_class    [0.88453, 0.19405, 0.52572, 0.23931, 0.28576, 0.10927, 0.05013]\n",
      "dtype: object\n"
     ]
    }
   ],
   "source": [
    "%run ./crossVal_shoes3D_torch_B5_S2_SW_VOLUME_64x64x64_2conv3d.ipynb"
   ]
  },
  {
   "cell_type": "code",
   "execution_count": 1,
   "id": "33f67dbf",
   "metadata": {},
   "outputs": [
    {
     "name": "stderr",
     "output_type": "stream",
     "text": [
      "You are using a CUDA device ('NVIDIA GeForce RTX 4090') that has Tensor Cores. To properly utilize them, you should set `torch.set_float32_matmul_precision('medium' | 'high')` which will trade-off precision for performance. For more details, read https://pytorch.org/docs/stable/generated/torch.set_float32_matmul_precision.html#torch.set_float32_matmul_precision\n"
     ]
    },
    {
     "name": "stdout",
     "output_type": "stream",
     "text": [
      "2.6.0\n",
      "Num GPUs Available:  1\n",
      "Device 0: NVIDIA GeForce RTX 4090\n",
      "Model size: 52.89 MB\n",
      "Trainable parameters: 13807103\n",
      "Non-trainable parameters: 0\n",
      "Memory used: 1.34 GB\n",
      "Time elapsed 16.81 min\n",
      "val_iou    0.277066\n",
      "val_f1     0.375898\n",
      "dtype: float64\n",
      "Memory used: 1.34 GB\n",
      "Time elapsed 16.09 min\n",
      "val_iou    0.273658\n",
      "val_f1     0.370114\n",
      "dtype: float64\n",
      "Memory used: 1.34 GB\n",
      "Time elapsed 15.44 min\n",
      "val_iou    0.276896\n",
      "val_f1     0.373576\n",
      "dtype: float64\n",
      "Memory used: 1.34 GB\n",
      "Time elapsed 16.86 min\n",
      "val_iou    0.278802\n",
      "val_f1     0.378514\n",
      "dtype: float64\n",
      "Memory used: 1.34 GB\n",
      "Time elapsed 16.49 min\n",
      "val_iou    0.279250\n",
      "val_f1     0.375746\n",
      "dtype: float64\n"
     ]
    }
   ],
   "source": [
    "%run ./crossVal_shoes3D_torch_B5_S2_SW_VOLUME_96x96x96_2conv3d.ipynb"
   ]
  },
  {
   "cell_type": "code",
   "execution_count": 2,
   "id": "0e8d8159",
   "metadata": {},
   "outputs": [
    {
     "name": "stdout",
     "output_type": "stream",
     "text": [
      "2.6.0\n",
      "Num GPUs Available:  1\n",
      "Device 0: NVIDIA GeForce RTX 4090\n",
      "Model size: 52.89 MB\n",
      "Trainable parameters: 13807103\n",
      "Non-trainable parameters: 0\n",
      "Memory used: 2.20 GB\n",
      "Time elapsed 23.78 min\n",
      "val_iou    0.312492\n",
      "val_f1     0.414574\n",
      "dtype: float64\n",
      "Memory used: 2.20 GB\n",
      "Time elapsed 23.02 min\n",
      "val_iou    0.312586\n",
      "val_f1     0.416160\n",
      "dtype: float64\n",
      "Memory used: 2.20 GB\n",
      "Time elapsed 23.20 min\n",
      "val_iou    0.312902\n",
      "val_f1     0.416262\n",
      "dtype: float64\n",
      "Memory used: 2.20 GB\n",
      "Time elapsed 23.85 min\n",
      "val_iou    0.315704\n",
      "val_f1     0.418400\n",
      "dtype: float64\n",
      "Memory used: 2.20 GB\n",
      "Time elapsed 23.48 min\n",
      "val_iou    0.309560\n",
      "val_f1     0.411144\n",
      "dtype: float64\n"
     ]
    }
   ],
   "source": [
    "%run ./crossVal_shoes3D_torch_B5_S2_SW_VOLUME_128x128x128_2conv3d.ipynb"
   ]
  },
  {
   "cell_type": "code",
   "execution_count": 3,
   "id": "7ad95fc6",
   "metadata": {},
   "outputs": [
    {
     "name": "stdout",
     "output_type": "stream",
     "text": [
      "2.6.0\n",
      "Num GPUs Available:  1\n",
      "Device 0: NVIDIA GeForce RTX 4090\n",
      "Model size: 52.89 MB\n",
      "Trainable parameters: 13807103\n",
      "Non-trainable parameters: 0\n",
      "Memory used: 3.37 GB\n",
      "Time elapsed 35.89 min\n",
      "val_iou    0.331102\n",
      "val_f1     0.434190\n",
      "dtype: float64\n",
      "Memory used: 3.37 GB\n",
      "Time elapsed 36.36 min\n",
      "val_iou    0.324688\n",
      "val_f1     0.428376\n",
      "dtype: float64\n",
      "Memory used: 3.37 GB\n",
      "Time elapsed 37.49 min\n",
      "val_iou    0.329186\n",
      "val_f1     0.432938\n",
      "dtype: float64\n",
      "Memory used: 3.37 GB\n",
      "Time elapsed 41.90 min\n",
      "val_iou    0.339512\n",
      "val_f1     0.445812\n",
      "dtype: float64\n",
      "Memory used: 3.37 GB\n",
      "Time elapsed 41.51 min\n",
      "val_iou    0.348344\n",
      "val_f1     0.455018\n",
      "dtype: float64\n"
     ]
    }
   ],
   "source": [
    "%run ./crossVal_shoes3D_torch_B5_S2_SW_VOLUME_160x160x160_2conv3d.ipynb"
   ]
  },
  {
   "cell_type": "code",
   "execution_count": 4,
   "id": "1ca4ed6f",
   "metadata": {},
   "outputs": [
    {
     "name": "stdout",
     "output_type": "stream",
     "text": [
      "2.6.0\n",
      "Num GPUs Available:  1\n",
      "Device 0: NVIDIA GeForce RTX 4090\n",
      "Model size: 52.89 MB\n",
      "Trainable parameters: 13807103\n",
      "Non-trainable parameters: 0\n",
      "Memory used: 5.23 GB\n",
      "Time elapsed 70.88 min\n",
      "val_iou    0.359640\n",
      "val_f1     0.466762\n",
      "dtype: float64\n",
      "Memory used: 5.23 GB\n",
      "Time elapsed 71.20 min\n",
      "val_iou    0.356282\n",
      "val_f1     0.463862\n",
      "dtype: float64\n",
      "Memory used: 5.23 GB\n",
      "Time elapsed 70.97 min\n",
      "val_iou    0.353498\n",
      "val_f1     0.460358\n",
      "dtype: float64\n",
      "Memory used: 5.23 GB\n",
      "Time elapsed 69.72 min\n",
      "val_iou    0.355298\n",
      "val_f1     0.461396\n",
      "dtype: float64\n",
      "Memory used: 5.23 GB\n",
      "Time elapsed 83.23 min\n",
      "val_iou    0.357058\n",
      "val_f1     0.464196\n",
      "dtype: float64\n"
     ]
    }
   ],
   "source": [
    "%run ./crossVal_shoes3D_torch_B5_S2_SW_VOLUME_192x192x192_2conv3d.ipynb"
   ]
  },
  {
   "cell_type": "code",
   "execution_count": 5,
   "id": "24efe93d",
   "metadata": {},
   "outputs": [
    {
     "name": "stdout",
     "output_type": "stream",
     "text": [
      "2.6.0\n",
      "Num GPUs Available:  1\n",
      "Device 0: NVIDIA GeForce RTX 4090\n",
      "Model size: 52.89 MB\n",
      "Trainable parameters: 13807103\n",
      "Non-trainable parameters: 0\n",
      "Memory used: 8.06 GB\n",
      "Time elapsed 100.62 min\n",
      "val_iou    0.360404\n",
      "val_f1     0.466416\n",
      "dtype: float64\n",
      "Memory used: 8.06 GB\n",
      "Time elapsed 113.58 min\n",
      "val_iou    0.382096\n",
      "val_f1     0.492114\n",
      "dtype: float64\n",
      "Memory used: 8.06 GB\n",
      "Time elapsed 104.83 min\n",
      "val_iou    0.367780\n",
      "val_f1     0.475748\n",
      "dtype: float64\n",
      "Memory used: 8.06 GB\n",
      "Time elapsed 109.06 min\n",
      "val_iou    0.364864\n",
      "val_f1     0.470462\n",
      "dtype: float64\n",
      "Memory used: 8.06 GB\n",
      "Time elapsed 107.91 min\n",
      "val_iou    0.373378\n",
      "val_f1     0.482678\n",
      "dtype: float64\n"
     ]
    }
   ],
   "source": [
    "%run ./crossVal_shoes3D_torch_B5_S2_SW_VOLUME_224x224x224_2conv3d.ipynb"
   ]
  },
  {
   "cell_type": "code",
   "execution_count": 6,
   "id": "0fdc7b0a",
   "metadata": {},
   "outputs": [
    {
     "name": "stdout",
     "output_type": "stream",
     "text": [
      "2.6.0\n",
      "Num GPUs Available:  1\n",
      "Device 0: NVIDIA GeForce RTX 4090\n",
      "Model size: 52.89 MB\n",
      "Trainable parameters: 13807103\n",
      "Non-trainable parameters: 0\n",
      "Memory used: 11.76 GB\n",
      "Time elapsed 180.99 min\n",
      "val_iou    0.366812\n",
      "val_f1     0.472508\n",
      "dtype: float64\n",
      "Memory used: 11.76 GB\n",
      "Time elapsed 165.70 min\n",
      "val_iou    0.385278\n",
      "val_f1     0.494452\n",
      "dtype: float64\n",
      "Memory used: 11.76 GB\n",
      "Time elapsed 195.97 min\n",
      "val_iou    0.387536\n",
      "val_f1     0.497896\n",
      "dtype: float64\n",
      "Memory used: 11.76 GB\n",
      "Time elapsed 206.96 min\n",
      "val_iou    0.382552\n",
      "val_f1     0.491316\n",
      "dtype: float64\n",
      "Memory used: 11.76 GB\n",
      "Time elapsed 207.28 min\n",
      "val_iou    0.39011\n",
      "val_f1     0.50199\n",
      "dtype: float64\n"
     ]
    }
   ],
   "source": [
    "%run ./crossVal_shoes3D_torch_B5_S2_SW_VOLUME_256x256x256_2conv3d.ipynb"
   ]
  },
  {
   "cell_type": "code",
   "execution_count": 7,
   "id": "a12e84d4",
   "metadata": {},
   "outputs": [
    {
     "name": "stdout",
     "output_type": "stream",
     "text": [
      "2.6.0\n",
      "Num GPUs Available:  1\n",
      "Device 0: NVIDIA GeForce RTX 4090\n",
      "Model size: 52.89 MB\n",
      "Trainable parameters: 13807103\n",
      "Non-trainable parameters: 0\n",
      "Memory used: 16.87 GB\n",
      "Time elapsed 249.41 min\n",
      "val_iou    0.37932\n",
      "val_f1     0.48889\n",
      "dtype: float64\n",
      "Memory used: 16.87 GB\n",
      "Time elapsed 254.99 min\n",
      "val_iou    0.390116\n",
      "val_f1     0.502444\n",
      "dtype: float64\n",
      "Memory used: 16.87 GB\n",
      "Time elapsed 258.06 min\n",
      "val_iou    0.380290\n",
      "val_f1     0.488604\n",
      "dtype: float64\n",
      "Memory used: 16.87 GB\n",
      "Time elapsed 236.65 min\n",
      "val_iou    0.381386\n",
      "val_f1     0.489206\n",
      "dtype: float64\n",
      "Memory used: 16.87 GB\n",
      "Time elapsed 286.02 min\n",
      "val_iou    0.396396\n",
      "val_f1     0.507434\n",
      "dtype: float64\n"
     ]
    }
   ],
   "source": [
    "%run ./crossVal_shoes3D_torch_B5_S2_SW_VOLUME_288x288x288_2conv3d.ipynb"
   ]
  },
  {
   "cell_type": "code",
   "execution_count": 8,
   "id": "9780315e",
   "metadata": {},
   "outputs": [
    {
     "name": "stdout",
     "output_type": "stream",
     "text": [
      "2.6.0\n",
      "Num GPUs Available:  1\n",
      "Device 0: NVIDIA GeForce RTX 4090\n",
      "Model size: 52.89 MB\n",
      "Trainable parameters: 13807103\n",
      "Non-trainable parameters: 0\n",
      "Memory used: 23.19 GB\n",
      "Time elapsed 394.35 min\n",
      "val_iou    0.382028\n",
      "val_f1     0.492786\n",
      "dtype: float64\n",
      "Memory used: 23.19 GB\n",
      "Time elapsed 404.04 min\n",
      "val_iou    0.394308\n",
      "val_f1     0.505898\n",
      "dtype: float64\n",
      "Memory used: 23.19 GB\n",
      "Time elapsed 490.68 min\n",
      "val_iou    0.396902\n",
      "val_f1     0.508048\n",
      "dtype: float64\n",
      "Memory used: 23.19 GB\n",
      "Time elapsed 455.12 min\n",
      "val_iou    0.383598\n",
      "val_f1     0.493522\n",
      "dtype: float64\n",
      "Memory used: 23.19 GB\n",
      "Time elapsed 392.75 min\n",
      "val_iou    0.381506\n",
      "val_f1     0.491238\n",
      "dtype: float64\n"
     ]
    }
   ],
   "source": [
    "%run ./crossVal_shoes3D_torch_B5_S2_SW_VOLUME_320x320x320_2conv3d.ipynb"
   ]
  },
  {
   "cell_type": "code",
   "execution_count": null,
   "id": "645cfbcd",
   "metadata": {},
   "outputs": [],
   "source": []
  }
 ],
 "metadata": {
  "kernelspec": {
   "display_name": "torch260",
   "language": "python",
   "name": "python3"
  },
  "language_info": {
   "codemirror_mode": {
    "name": "ipython",
    "version": 3
   },
   "file_extension": ".py",
   "mimetype": "text/x-python",
   "name": "python",
   "nbconvert_exporter": "python",
   "pygments_lexer": "ipython3",
   "version": "3.12.9"
  }
 },
 "nbformat": 4,
 "nbformat_minor": 5
}
