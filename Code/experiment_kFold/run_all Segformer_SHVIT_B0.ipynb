{
 "cells": [
  {
   "cell_type": "code",
   "execution_count": 1,
   "id": "87b02d63",
   "metadata": {},
   "outputs": [],
   "source": [
    "# %run ./crossVal_shoes3D_torch_B0_S1_2conv3d.ipynb\n",
    "# %run ./crossVal_shoes3D_torch_B0_S2_2conv3d.ipynb\n",
    "# %run ./crossVal_shoes3D_torch_B0_S3_2conv3d.ipynb\n",
    "# %run ./crossVal_shoes3D_torch_B0_S4_2conv3d.ipynb\n",
    "\n",
    "# %run ./crossVal_shoes3D_torch_B5_S1_2conv3d.ipynb\n",
    "# %run ./crossVal_shoes3D_torch_B5_S2_2conv3d.ipynb\n",
    "# %run ./crossVal_shoes3D_torch_B5_S3_2conv3d.ipynb\n",
    "# %run ./crossVal_shoes3D_torch_B5_S4_2conv3d.ipynb"
   ]
  },
  {
   "cell_type": "code",
   "execution_count": 2,
   "id": "0a3e2714",
   "metadata": {},
   "outputs": [
    {
     "name": "stderr",
     "output_type": "stream",
     "text": [
      "You are using a CUDA device ('NVIDIA GeForce RTX 4090') that has Tensor Cores. To properly utilize them, you should set `torch.set_float32_matmul_precision('medium' | 'high')` which will trade-off precision for performance. For more details, read https://pytorch.org/docs/stable/generated/torch.set_float32_matmul_precision.html#torch.set_float32_matmul_precision\n"
     ]
    },
    {
     "name": "stdout",
     "output_type": "stream",
     "text": [
      "2.6.0\n",
      "Num GPUs Available:  1\n",
      "Device 0: NVIDIA GeForce RTX 4090\n",
      "Model size: 25.33 MB\n",
      "Trainable parameters: 6597511\n",
      "Non-trainable parameters: 0\n",
      "Memory used: 11.38 GB\n",
      "val_iou    0.279212\n",
      "val_f1     0.382040\n",
      "dtype: float64\n",
      "Memory used: 12.38 GB\n",
      "val_iou    0.284086\n",
      "val_f1     0.385268\n",
      "dtype: float64\n",
      "Memory used: 12.38 GB\n",
      "val_iou    0.290762\n",
      "val_f1     0.396522\n",
      "dtype: float64\n",
      "Memory used: 12.39 GB\n",
      "val_iou    0.288366\n",
      "val_f1     0.391576\n",
      "dtype: float64\n",
      "Memory used: 12.39 GB\n",
      "val_iou    0.286824\n",
      "val_f1     0.389090\n",
      "dtype: float64\n",
      "Memory used: 12.39 GB\n",
      "val_iou    0.280744\n",
      "val_f1     0.381090\n",
      "dtype: float64\n"
     ]
    }
   ],
   "source": [
    "%run ./crossVal_shoes3D_torch_B0_S1_224x224x224_2conv3d.ipynb"
   ]
  },
  {
   "cell_type": "code",
   "execution_count": 1,
   "id": "fdb36de2",
   "metadata": {},
   "outputs": [
    {
     "name": "stderr",
     "output_type": "stream",
     "text": [
      "You are using a CUDA device ('NVIDIA GeForce RTX 4090') that has Tensor Cores. To properly utilize them, you should set `torch.set_float32_matmul_precision('medium' | 'high')` which will trade-off precision for performance. For more details, read https://pytorch.org/docs/stable/generated/torch.set_float32_matmul_precision.html#torch.set_float32_matmul_precision\n"
     ]
    },
    {
     "name": "stdout",
     "output_type": "stream",
     "text": [
      "2.6.0\n",
      "Num GPUs Available:  1\n",
      "Device 0: NVIDIA GeForce RTX 4090\n",
      "Model size: 44.87 MB\n",
      "Trainable parameters: 11704735\n",
      "Non-trainable parameters: 0\n",
      "Memory used: 12.58 GB\n",
      "val_iou    0.277348\n",
      "val_f1     0.378946\n",
      "dtype: float64\n",
      "Memory used: 12.63 GB\n",
      "val_iou    0.286110\n",
      "val_f1     0.387876\n",
      "dtype: float64\n",
      "Memory used: 12.63 GB\n",
      "val_iou    0.282758\n",
      "val_f1     0.386290\n",
      "dtype: float64\n",
      "Memory used: 12.63 GB\n",
      "val_iou    0.290478\n",
      "val_f1     0.395886\n",
      "dtype: float64\n",
      "Memory used: 12.63 GB\n",
      "val_iou    0.289426\n",
      "val_f1     0.395010\n",
      "dtype: float64\n",
      "Memory used: 12.63 GB\n",
      "val_iou    0.278118\n",
      "val_f1     0.380244\n",
      "dtype: float64\n"
     ]
    }
   ],
   "source": [
    "%run ./crossVal_shoes3D_torch_B0_S2_224x224x224_2conv3d.ipynb"
   ]
  },
  {
   "cell_type": "code",
   "execution_count": 2,
   "id": "90cc1fcd",
   "metadata": {},
   "outputs": [
    {
     "name": "stdout",
     "output_type": "stream",
     "text": [
      "2.6.0\n",
      "Num GPUs Available:  1\n",
      "Device 0: NVIDIA GeForce RTX 4090\n",
      "Model size: 56.25 MB\n",
      "Trainable parameters: 14676480\n",
      "Non-trainable parameters: 0\n",
      "Memory used: 15.37 GB\n",
      "val_iou    0.288384\n",
      "val_f1     0.395598\n",
      "dtype: float64\n",
      "Memory used: 15.37 GB\n",
      "val_iou    0.282156\n",
      "val_f1     0.386176\n",
      "dtype: float64\n",
      "Memory used: 15.37 GB\n",
      "val_iou    0.284446\n",
      "val_f1     0.391118\n",
      "dtype: float64\n",
      "Memory used: 15.37 GB\n",
      "val_iou    0.284178\n",
      "val_f1     0.390474\n",
      "dtype: float64\n",
      "Memory used: 15.37 GB\n",
      "val_iou    0.284996\n",
      "val_f1     0.389606\n",
      "dtype: float64\n",
      "Memory used: 15.37 GB\n",
      "val_iou    0.286300\n",
      "val_f1     0.391266\n",
      "dtype: float64\n"
     ]
    }
   ],
   "source": [
    "%run ./crossVal_shoes3D_torch_B0_S3_224x224x224_2conv3d.ipynb"
   ]
  },
  {
   "cell_type": "code",
   "execution_count": 1,
   "id": "d05258da",
   "metadata": {},
   "outputs": [
    {
     "name": "stderr",
     "output_type": "stream",
     "text": [
      "You are using a CUDA device ('NVIDIA GeForce RTX 4090') that has Tensor Cores. To properly utilize them, you should set `torch.set_float32_matmul_precision('medium' | 'high')` which will trade-off precision for performance. For more details, read https://pytorch.org/docs/stable/generated/torch.set_float32_matmul_precision.html#torch.set_float32_matmul_precision\n"
     ]
    },
    {
     "name": "stdout",
     "output_type": "stream",
     "text": [
      "2.6.0\n",
      "Num GPUs Available:  1\n",
      "Device 0: NVIDIA GeForce RTX 4090\n",
      "Model size: 65.74 MB\n",
      "Trainable parameters: 17150807\n",
      "Non-trainable parameters: 0\n",
      "Memory used: 18.21 GB\n",
      "val_iou    0.291672\n",
      "val_f1     0.397970\n",
      "dtype: float64\n",
      "Memory used: 18.82 GB\n",
      "val_iou    0.29397\n",
      "val_f1     0.40151\n",
      "dtype: float64\n",
      "Memory used: 18.82 GB\n",
      "val_iou    0.287090\n",
      "val_f1     0.391864\n",
      "dtype: float64\n",
      "Memory used: 18.82 GB\n",
      "val_iou    0.287632\n",
      "val_f1     0.396180\n",
      "dtype: float64\n",
      "Memory used: 18.82 GB\n",
      "val_iou    0.289014\n",
      "val_f1     0.392620\n",
      "dtype: float64\n",
      "Memory used: 18.82 GB\n",
      "val_iou    0.283638\n",
      "val_f1     0.388102\n",
      "dtype: float64\n"
     ]
    }
   ],
   "source": [
    "%run ./crossVal_shoes3D_torch_B0_S4_224x224x224_2conv3d.ipynb"
   ]
  },
  {
   "cell_type": "code",
   "execution_count": null,
   "id": "c6623f5c",
   "metadata": {},
   "outputs": [],
   "source": []
  }
 ],
 "metadata": {
  "kernelspec": {
   "display_name": "torch260",
   "language": "python",
   "name": "python3"
  },
  "language_info": {
   "codemirror_mode": {
    "name": "ipython",
    "version": 3
   },
   "file_extension": ".py",
   "mimetype": "text/x-python",
   "name": "python",
   "nbconvert_exporter": "python",
   "pygments_lexer": "ipython3",
   "version": "3.12.9"
  }
 },
 "nbformat": 4,
 "nbformat_minor": 5
}
