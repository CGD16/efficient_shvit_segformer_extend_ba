{
 "cells": [
  {
   "cell_type": "code",
   "execution_count": null,
   "id": "87b02d63",
   "metadata": {},
   "outputs": [],
   "source": [
    "# %run ./XX_shoes3D_torch_B5_S2_SW_224x224x224_2conv3d_relu.ipynb\n",
    "# %run ./XX_shoes3D_torch_B5_S2_SW_224x224x224_2conv3d_gelu.ipynb\n",
    "# %run ./XX_shoes3D_torch_B5_S2_SW_224x224x224_2conv3d_lrelu.ipynb"
   ]
  },
  {
   "cell_type": "code",
   "execution_count": null,
   "id": "da41bcbb",
   "metadata": {},
   "outputs": [],
   "source": [
    "%run ./XX_shoes3D_torch_B5_S2_SW_224x224x224_2conv3d_gelu.ipynb\n",
    "%run ./XX_shoes3D_torch_B5_S2_SW_224x224x224_2conv3d_gelu.ipynb\n",
    "%run ./XX_shoes3D_torch_B5_S2_SW_224x224x224_2conv3d_gelu.ipynb\n",
    "%run ./XX_shoes3D_torch_B5_S2_SW_224x224x224_2conv3d_gelu.ipynb\n",
    "%run ./XX_shoes3D_torch_B5_S2_SW_224x224x224_2conv3d_gelu.ipynb\n",
    "%run ./XX_shoes3D_torch_B5_S2_SW_224x224x224_2conv3d_gelu.ipynb"
   ]
  },
  {
   "cell_type": "code",
   "execution_count": null,
   "id": "38cdbd29",
   "metadata": {},
   "outputs": [],
   "source": [
    "%run ./XX_shoes3D_torch_B5_S2_SW_224x224x224_2conv3d_lrelu.ipynb\n",
    "%run ./XX_shoes3D_torch_B5_S2_SW_224x224x224_2conv3d_lrelu.ipynb\n",
    "%run ./XX_shoes3D_torch_B5_S2_SW_224x224x224_2conv3d_lrelu.ipynb\n",
    "%run ./XX_shoes3D_torch_B5_S2_SW_224x224x224_2conv3d_lrelu.ipynb\n",
    "%run ./XX_shoes3D_torch_B5_S2_SW_224x224x224_2conv3d_lrelu.ipynb\n",
    "%run ./XX_shoes3D_torch_B5_S2_SW_224x224x224_2conv3d_lrelu.ipynb"
   ]
  }
 ],
 "metadata": {
  "kernelspec": {
   "display_name": "torch260",
   "language": "python",
   "name": "python3"
  },
  "language_info": {
   "codemirror_mode": {
    "name": "ipython",
    "version": 3
   },
   "file_extension": ".py",
   "mimetype": "text/x-python",
   "name": "python",
   "nbconvert_exporter": "python",
   "pygments_lexer": "ipython3",
   "version": "3.12.9"
  }
 },
 "nbformat": 4,
 "nbformat_minor": 5
}
