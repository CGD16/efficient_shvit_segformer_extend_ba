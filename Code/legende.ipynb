{
 "cells": [
  {
   "cell_type": "code",
   "execution_count": null,
   "id": "9ecce70f",
   "metadata": {},
   "outputs": [],
   "source": []
  },
  {
   "cell_type": "code",
   "execution_count": 28,
   "id": "6fb803ce",
   "metadata": {},
   "outputs": [
    {
     "data": {
      "image/png": "[encoded data removed]",
      "text/plain": [
       "<Figure size 800x50 with 1 Axes>"
      ]
     },
     "metadata": {},
     "output_type": "display_data"
    }
   ],
   "source": [
    "import matplotlib.pyplot as plt\n",
    "import matplotlib.patches as patches\n",
    "import numpy as np\n",
    "\n",
    "# rocket\n",
    "seven_segments_color = [(0.19, 0.09, 0.23), \n",
    "          (0.38, 0.12, 0.33), \n",
    "          (0.59, 0.11, 0.36), \n",
    "          (0.80, 0.11, 0.31), \n",
    "          (0.93, 0.30, 0.24), \n",
    "          (0.96, 0.53, 0.38), \n",
    "          (0.97, 0.74, 0.60)]\n",
    "seven_segments = ['Background', 'Box', 'Outer sole', 'Inner sole', 'Upper material', 'Shoe tongue', 'Packaging material']\n",
    "\n",
    "# 2 segments (black / green)\n",
    "two_segments_color = [(0,0,0), (0,1,0)]\n",
    "two_segments = ['Background', 'Inside volume']\n",
    "\n",
    "# 3 segments (black / blue / red)\n",
    "three_segments_color = [(0,0,0), (0,0,1), (1,0,0)]\n",
    "three_segments = ['Background', 'Box', 'Shoe']\n",
    "\n",
    "# 4 segments (black / green / red / blue)\n",
    "four_segments_color = [(0,0,0), (0,1,0), (1,0,0), (0,0,1)]\n",
    "four_segments = ['Background', 'Outer sole', 'Inner sole', 'Upper material']\n",
    "\n",
    "colors = seven_segments_color\n",
    "color_legend = seven_segments\n",
    "\n",
    "fig, ax = plt.subplots(figsize=(8, 0.5))\n",
    "\n",
    "ncol = 4\n",
    "nrows = int(np.ceil(len(colors) / ncol))\n",
    "\n",
    "reordered_indices = []\n",
    "for col in range(ncol):\n",
    "    for row in range(nrows):\n",
    "        idx =  row * ncol + col\n",
    "        if idx < len(colors):\n",
    "            reordered_indices.append(idx)\n",
    "            \n",
    "            \n",
    "legend_elements = []\n",
    "for i in reordered_indices:\n",
    "    patch = patches.Patch(color=colors[i], label=color_legend[i])\n",
    "    legend_elements.append(patch)\n",
    "    \n",
    "ax.legend(handles=legend_elements, loc='center', fontsize=12, ncol=ncol, frameon=False)\n",
    "\n",
    "\n",
    "ax.set_xlim(0,1)\n",
    "ax.set_ylim(0,1)\n",
    "ax.axis('off')\n",
    "\n",
    "plt.tight_layout()\n",
    "\n",
    "\n",
    "plt.savefig('color_legend_7_segments_v2.png', dpi=600, bbox_inches='tight')\n",
    "plt.show()"
   ]
  },
  {
   "cell_type": "code",
   "execution_count": null,
   "id": "efbfc324",
   "metadata": {},
   "outputs": [],
   "source": []
  },
  {
   "cell_type": "code",
   "execution_count": null,
   "id": "b3a99020",
   "metadata": {},
   "outputs": [],
   "source": []
  }
 ],
 "metadata": {
  "kernelspec": {
   "display_name": "torch260",
   "language": "python",
   "name": "python3"
  },
  "language_info": {
   "codemirror_mode": {
    "name": "ipython",
    "version": 3
   },
   "file_extension": ".py",
   "mimetype": "text/x-python",
   "name": "python",
   "nbconvert_exporter": "python",
   "pygments_lexer": "ipython3",
   "version": "3.12.9"
  }
 },
 "nbformat": 4,
 "nbformat_minor": 5
}
